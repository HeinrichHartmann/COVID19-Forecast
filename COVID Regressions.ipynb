{
 "cells": [
  {
   "cell_type": "code",
   "execution_count": 1,
   "metadata": {},
   "outputs": [],
   "source": [
    "%matplotlib inline"
   ]
  },
  {
   "cell_type": "code",
   "execution_count": 2,
   "metadata": {},
   "outputs": [],
   "source": [
    "import numpy as np\n",
    "import pandas as pd"
   ]
  },
  {
   "cell_type": "code",
   "execution_count": 3,
   "metadata": {},
   "outputs": [
    {
     "name": "stdout",
     "output_type": "stream",
     "text": [
      "remote: Enumerating objects: 709, done.\u001b[K\n",
      "remote: Counting objects: 100% (709/709), done.\u001b[K\n",
      "remote: Total 2381 (delta 709), reused 709 (delta 709), pack-reused 1672\u001b[K\n",
      "Receiving objects: 100% (2381/2381), 6.51 MiB | 1.99 MiB/s, done.\n",
      "Resolving deltas: 100% (1129/1129), completed with 21 local objects.\n",
      "From https://github.com/CSSEGISandData/COVID-19\n",
      "   e69d4ce..4b81417  master     -> origin/master\n",
      "   53093e4..bdf046e  web-data   -> origin/web-data\n",
      "Updating e69d4ce..4b81417\n",
      "Fast-forward\n",
      " .../csse_covid_19_daily_reports/03-11-2020.csv     | 217 \u001b[32m++++++\u001b[m\n",
      " .../csse_covid_19_daily_reports/03-12-2020.csv     | 219 \u001b[32m++++++\u001b[m\n",
      " .../time_series_19-covid-Confirmed.csv             | 755 \u001b[32m+++++++++++\u001b[m\u001b[31m----------\u001b[m\n",
      " .../time_series_19-covid-Deaths.csv                | 755 \u001b[32m+++++++++++\u001b[m\u001b[31m----------\u001b[m\n",
      " .../time_series_19-covid-Recovered.csv             | 755 \u001b[32m+++++++++++\u001b[m\u001b[31m----------\u001b[m\n",
      " .../20200304-sitrep-44-covid-19.pdf                | Bin \u001b[31m0\u001b[m -> \u001b[32m969597\u001b[m bytes\n",
      " .../20200305-sitrep-45-covid-19.pdf                | Bin \u001b[31m0\u001b[m -> \u001b[32m682952\u001b[m bytes\n",
      " .../20200306-sitrep-46-covid-19.pdf                | Bin \u001b[31m0\u001b[m -> \u001b[32m608856\u001b[m bytes\n",
      " .../20200307-sitrep-47-covid-19.pdf                | Bin \u001b[31m0\u001b[m -> \u001b[32m814695\u001b[m bytes\n",
      " .../20200308-sitrep-48-covid-19.pdf                | Bin \u001b[31m0\u001b[m -> \u001b[32m856853\u001b[m bytes\n",
      " .../20200309-sitrep-49-covid-19.pdf                | Bin \u001b[31m0\u001b[m -> \u001b[32m1307450\u001b[m bytes\n",
      " .../20200310-sitrep-50-covid-19.pdf                | Bin \u001b[31m0\u001b[m -> \u001b[32m1394545\u001b[m bytes\n",
      " .../who_covid_19_sit_rep_time_series.csv           | 239 \u001b[32m+++\u001b[m\u001b[31m----\u001b[m\n",
      " 13 files changed, 1781 insertions(+), 1159 deletions(-)\n",
      " create mode 100644 csse_covid_19_data/csse_covid_19_daily_reports/03-11-2020.csv\n",
      " create mode 100644 csse_covid_19_data/csse_covid_19_daily_reports/03-12-2020.csv\n",
      " create mode 100644 who_covid_19_situation_reports/who_covid_19_sit_rep_pdfs/20200304-sitrep-44-covid-19.pdf\n",
      " create mode 100644 who_covid_19_situation_reports/who_covid_19_sit_rep_pdfs/20200305-sitrep-45-covid-19.pdf\n",
      " create mode 100644 who_covid_19_situation_reports/who_covid_19_sit_rep_pdfs/20200306-sitrep-46-covid-19.pdf\n",
      " create mode 100644 who_covid_19_situation_reports/who_covid_19_sit_rep_pdfs/20200307-sitrep-47-covid-19.pdf\n",
      " create mode 100644 who_covid_19_situation_reports/who_covid_19_sit_rep_pdfs/20200308-sitrep-48-covid-19.pdf\n",
      " create mode 100644 who_covid_19_situation_reports/who_covid_19_sit_rep_pdfs/20200309-sitrep-49-covid-19.pdf\n",
      " create mode 100644 who_covid_19_situation_reports/who_covid_19_sit_rep_pdfs/20200310-sitrep-50-covid-19.pdf\n"
     ]
    }
   ],
   "source": [
    "!cd data/COVID-19/; git pull"
   ]
  },
  {
   "cell_type": "code",
   "execution_count": 4,
   "metadata": {},
   "outputs": [],
   "source": [
    "df = pd.read_csv(\"./data/COVID-19/csse_covid_19_data/csse_covid_19_time_series/time_series_19-covid-Confirmed.csv\")"
   ]
  },
  {
   "cell_type": "code",
   "execution_count": 5,
   "metadata": {},
   "outputs": [
    {
     "data": {
      "text/html": [
       "<div>\n",
       "<style scoped>\n",
       "    .dataframe tbody tr th:only-of-type {\n",
       "        vertical-align: middle;\n",
       "    }\n",
       "\n",
       "    .dataframe tbody tr th {\n",
       "        vertical-align: top;\n",
       "    }\n",
       "\n",
       "    .dataframe thead th {\n",
       "        text-align: right;\n",
       "    }\n",
       "</style>\n",
       "<table border=\"1\" class=\"dataframe\">\n",
       "  <thead>\n",
       "    <tr style=\"text-align: right;\">\n",
       "      <th></th>\n",
       "      <th>Province/State</th>\n",
       "      <th>Country/Region</th>\n",
       "      <th>Lat</th>\n",
       "      <th>Long</th>\n",
       "      <th>1/22/20</th>\n",
       "      <th>1/23/20</th>\n",
       "      <th>1/24/20</th>\n",
       "      <th>1/25/20</th>\n",
       "      <th>1/26/20</th>\n",
       "      <th>1/27/20</th>\n",
       "      <th>...</th>\n",
       "      <th>3/3/20</th>\n",
       "      <th>3/4/20</th>\n",
       "      <th>3/5/20</th>\n",
       "      <th>3/6/20</th>\n",
       "      <th>3/7/20</th>\n",
       "      <th>3/8/20</th>\n",
       "      <th>3/9/20</th>\n",
       "      <th>3/10/20</th>\n",
       "      <th>3/11/20</th>\n",
       "      <th>3/12/20</th>\n",
       "    </tr>\n",
       "  </thead>\n",
       "  <tbody>\n",
       "    <tr>\n",
       "      <th>0</th>\n",
       "      <td>NaN</td>\n",
       "      <td>Thailand</td>\n",
       "      <td>15.0000</td>\n",
       "      <td>101.0000</td>\n",
       "      <td>2</td>\n",
       "      <td>3</td>\n",
       "      <td>5</td>\n",
       "      <td>7</td>\n",
       "      <td>8</td>\n",
       "      <td>8</td>\n",
       "      <td>...</td>\n",
       "      <td>43</td>\n",
       "      <td>43</td>\n",
       "      <td>47</td>\n",
       "      <td>48</td>\n",
       "      <td>50</td>\n",
       "      <td>50</td>\n",
       "      <td>50</td>\n",
       "      <td>53</td>\n",
       "      <td>59</td>\n",
       "      <td>70</td>\n",
       "    </tr>\n",
       "    <tr>\n",
       "      <th>1</th>\n",
       "      <td>NaN</td>\n",
       "      <td>Japan</td>\n",
       "      <td>36.0000</td>\n",
       "      <td>138.0000</td>\n",
       "      <td>2</td>\n",
       "      <td>1</td>\n",
       "      <td>2</td>\n",
       "      <td>2</td>\n",
       "      <td>4</td>\n",
       "      <td>4</td>\n",
       "      <td>...</td>\n",
       "      <td>293</td>\n",
       "      <td>331</td>\n",
       "      <td>360</td>\n",
       "      <td>420</td>\n",
       "      <td>461</td>\n",
       "      <td>502</td>\n",
       "      <td>511</td>\n",
       "      <td>581</td>\n",
       "      <td>639</td>\n",
       "      <td>639</td>\n",
       "    </tr>\n",
       "    <tr>\n",
       "      <th>2</th>\n",
       "      <td>NaN</td>\n",
       "      <td>Singapore</td>\n",
       "      <td>1.2833</td>\n",
       "      <td>103.8333</td>\n",
       "      <td>0</td>\n",
       "      <td>1</td>\n",
       "      <td>3</td>\n",
       "      <td>3</td>\n",
       "      <td>4</td>\n",
       "      <td>5</td>\n",
       "      <td>...</td>\n",
       "      <td>110</td>\n",
       "      <td>110</td>\n",
       "      <td>117</td>\n",
       "      <td>130</td>\n",
       "      <td>138</td>\n",
       "      <td>150</td>\n",
       "      <td>150</td>\n",
       "      <td>160</td>\n",
       "      <td>178</td>\n",
       "      <td>178</td>\n",
       "    </tr>\n",
       "    <tr>\n",
       "      <th>3</th>\n",
       "      <td>NaN</td>\n",
       "      <td>Nepal</td>\n",
       "      <td>28.1667</td>\n",
       "      <td>84.2500</td>\n",
       "      <td>0</td>\n",
       "      <td>0</td>\n",
       "      <td>0</td>\n",
       "      <td>1</td>\n",
       "      <td>1</td>\n",
       "      <td>1</td>\n",
       "      <td>...</td>\n",
       "      <td>1</td>\n",
       "      <td>1</td>\n",
       "      <td>1</td>\n",
       "      <td>1</td>\n",
       "      <td>1</td>\n",
       "      <td>1</td>\n",
       "      <td>1</td>\n",
       "      <td>1</td>\n",
       "      <td>1</td>\n",
       "      <td>1</td>\n",
       "    </tr>\n",
       "    <tr>\n",
       "      <th>4</th>\n",
       "      <td>NaN</td>\n",
       "      <td>Malaysia</td>\n",
       "      <td>2.5000</td>\n",
       "      <td>112.5000</td>\n",
       "      <td>0</td>\n",
       "      <td>0</td>\n",
       "      <td>0</td>\n",
       "      <td>3</td>\n",
       "      <td>4</td>\n",
       "      <td>4</td>\n",
       "      <td>...</td>\n",
       "      <td>36</td>\n",
       "      <td>50</td>\n",
       "      <td>50</td>\n",
       "      <td>83</td>\n",
       "      <td>93</td>\n",
       "      <td>99</td>\n",
       "      <td>117</td>\n",
       "      <td>129</td>\n",
       "      <td>149</td>\n",
       "      <td>149</td>\n",
       "    </tr>\n",
       "  </tbody>\n",
       "</table>\n",
       "<p>5 rows × 55 columns</p>\n",
       "</div>"
      ],
      "text/plain": [
       "  Province/State Country/Region      Lat      Long  1/22/20  1/23/20  1/24/20  \\\n",
       "0            NaN       Thailand  15.0000  101.0000        2        3        5   \n",
       "1            NaN          Japan  36.0000  138.0000        2        1        2   \n",
       "2            NaN      Singapore   1.2833  103.8333        0        1        3   \n",
       "3            NaN          Nepal  28.1667   84.2500        0        0        0   \n",
       "4            NaN       Malaysia   2.5000  112.5000        0        0        0   \n",
       "\n",
       "   1/25/20  1/26/20  1/27/20   ...     3/3/20  3/4/20  3/5/20  3/6/20  3/7/20  \\\n",
       "0        7        8        8   ...         43      43      47      48      50   \n",
       "1        2        4        4   ...        293     331     360     420     461   \n",
       "2        3        4        5   ...        110     110     117     130     138   \n",
       "3        1        1        1   ...          1       1       1       1       1   \n",
       "4        3        4        4   ...         36      50      50      83      93   \n",
       "\n",
       "   3/8/20  3/9/20  3/10/20  3/11/20  3/12/20  \n",
       "0      50      50       53       59       70  \n",
       "1     502     511      581      639      639  \n",
       "2     150     150      160      178      178  \n",
       "3       1       1        1        1        1  \n",
       "4      99     117      129      149      149  \n",
       "\n",
       "[5 rows x 55 columns]"
      ]
     },
     "execution_count": 5,
     "metadata": {},
     "output_type": "execute_result"
    }
   ],
   "source": [
    "df.head()"
   ]
  },
  {
   "cell_type": "code",
   "execution_count": 6,
   "metadata": {},
   "outputs": [],
   "source": [
    "X = df[ df[\"Country/Region\"] == \"Germany\" ]\n",
    "del X[\"Province/State\"]\n",
    "del X[\"Country/Region\"]\n",
    "del X[\"Lat\"]\n",
    "del X[\"Long\"]\n",
    "X = X.T\n",
    "X.index = pd.to_datetime( X.index )\n",
    "Cases = X.iloc[:,0]\n",
    "Cases.index = [ t.timestamp() for t in pd.to_datetime( Cases.index ) ]"
   ]
  },
  {
   "cell_type": "code",
   "execution_count": 7,
   "metadata": {},
   "outputs": [
    {
     "data": {
      "text/plain": [
       "<matplotlib.axes._subplots.AxesSubplot at 0x7fd9274ed5c0>"
      ]
     },
     "execution_count": 7,
     "metadata": {},
     "output_type": "execute_result"
    },
    {
     "data": {
      "image/png": "[encoded data removed]",
      "text/plain": [
       "<matplotlib.figure.Figure at 0x7fd95f550630>"
      ]
     },
     "metadata": {},
     "output_type": "display_data"
    }
   ],
   "source": [
    "Cases.plot()"
   ]
  },
  {
   "cell_type": "code",
   "execution_count": 8,
   "metadata": {},
   "outputs": [],
   "source": [
    "x_data = np.array( [ Cases.index ] ).T # shape ( #samples, #features = 1 )\n",
    "y_data = np.array( [ Cases ] ).T       # shape ( #samples, #targets = 1 )"
   ]
  },
  {
   "cell_type": "code",
   "execution_count": 9,
   "metadata": {},
   "outputs": [
    {
     "name": "stdout",
     "output_type": "stream",
     "text": [
      "(51, 1)\n",
      "(51, 1)\n"
     ]
    }
   ],
   "source": [
    "print(x_data.shape)\n",
    "print(y_data.shape)"
   ]
  },
  {
   "cell_type": "markdown",
   "metadata": {},
   "source": [
    "# Linear Regression"
   ]
  },
  {
   "cell_type": "code",
   "execution_count": 10,
   "metadata": {},
   "outputs": [],
   "source": [
    "def ts(y, m, d):\n",
    "    return datetime(y,m,d).timestamp()"
   ]
  },
  {
   "cell_type": "code",
   "execution_count": 11,
   "metadata": {},
   "outputs": [],
   "source": [
    "from sklearn import linear_model\n",
    "\n",
    "from datetime import datetime\n",
    "from matplotlib import pyplot as plt"
   ]
  },
  {
   "cell_type": "code",
   "execution_count": 12,
   "metadata": {},
   "outputs": [],
   "source": [
    "lreg = linear_model.LinearRegression().fit(x_data, y_data)"
   ]
  },
  {
   "cell_type": "code",
   "execution_count": 13,
   "metadata": {},
   "outputs": [],
   "source": [
    "Xpred = np.array( [ np.linspace( ts(2020,2,1), ts(2020,3,10), 100 ) ] ).T\n",
    "Ypred = lreg.predict(Xpred)"
   ]
  },
  {
   "cell_type": "code",
   "execution_count": 14,
   "metadata": {},
   "outputs": [
    {
     "name": "stdout",
     "output_type": "stream",
     "text": [
      "R2 =  0.407802298247\n"
     ]
    },
    {
     "data": {
      "image/png": "[encoded data removed]",
      "text/plain": [
       "<matplotlib.figure.Figure at 0x7fd9197c2748>"
      ]
     },
     "metadata": {},
     "output_type": "display_data"
    }
   ],
   "source": [
    "plt.plot(x_data, y_data)\n",
    "plt.plot(Xpred, Ypred)\n",
    "print(\"R2 = \", lreg.score(x_data, y_data))"
   ]
  },
  {
   "cell_type": "markdown",
   "metadata": {},
   "source": [
    "# Log Linear Model"
   ]
  },
  {
   "cell_type": "code",
   "execution_count": 15,
   "metadata": {},
   "outputs": [],
   "source": [
    "N = 30 # ignore the first N entries\n",
    "# TODO: Use sample_weight vector instead\n",
    "xl_data = x_data[N:]\n",
    "yl_data = np.log(y_data[N:])"
   ]
  },
  {
   "cell_type": "code",
   "execution_count": 16,
   "metadata": {},
   "outputs": [],
   "source": [
    "lreg = linear_model.LinearRegression().fit(xl_data, yl_data)"
   ]
  },
  {
   "cell_type": "code",
   "execution_count": 17,
   "metadata": {},
   "outputs": [],
   "source": [
    "Xl_pred = np.array( [ np.linspace( ts(2020,2,1), ts(2020,4,1), 200 ) ] ).T\n",
    "Yl_pred = np.exp( lreg.predict(Xl_pred) )"
   ]
  },
  {
   "cell_type": "code",
   "execution_count": 18,
   "metadata": {},
   "outputs": [
    {
     "data": {
      "text/plain": [
       "(0, 3000)"
      ]
     },
     "execution_count": 18,
     "metadata": {},
     "output_type": "execute_result"
    },
    {
     "data": {
      "image/png": "[encoded data removed]",
      "text/plain": [
       "<matplotlib.figure.Figure at 0x7fd91973aa20>"
      ]
     },
     "metadata": {},
     "output_type": "display_data"
    }
   ],
   "source": [
    "plt.figure(figsize=(10,5))\n",
    "plt.plot(x_data, y_data)\n",
    "plt.plot(Xl_pred, Yl_pred, \"--\", color=\"red\", alpha=0.5)\n",
    "plt.xticks([ ts(2020,2,20), ts(2020,3,1), ts(2020,3,8), ts(2020,3,11) ],\n",
    "           [\"Feb 20\", \"Mar 1\", \"Mar 8\", \"Mar 10\"])\n",
    "plt.legend([ \"Offizielle Infektionszahl\", \"Exponential fit\" ])\n",
    "plt.xlim( ts(2020,2,20), ts(2020,3,20) )\n",
    "plt.ylim( 0, 3000 )"
   ]
  },
  {
   "cell_type": "markdown",
   "metadata": {},
   "source": [
    "# Exponential Model\n",
    "\n",
    "- This is not a linear regression\n",
    "- Use Scipy minimize to minimize loos function:\n",
    "  - Allows to control error weigth\n",
    "  - Full flexibility in changing the model"
   ]
  },
  {
   "cell_type": "code",
   "execution_count": 19,
   "metadata": {},
   "outputs": [],
   "source": [
    "from scipy.optimize import minimize"
   ]
  },
  {
   "cell_type": "code",
   "execution_count": 20,
   "metadata": {},
   "outputs": [],
   "source": [
    "x0 = ts(2020,2,1)\n",
    "def f(x, a, b):\n",
    "    return np.exp( a + b * (x - x0)/86400 )\n",
    "\n",
    "def Loss(X, Y, f, p):\n",
    "    return np.mean( np.abs( f(X, *p) - Y ) ** 2 / 1000 ) # + 1e9 * (p[0]**2 + p[1]**2)"
   ]
  },
  {
   "cell_type": "code",
   "execution_count": 21,
   "metadata": {},
   "outputs": [
    {
     "name": "stdout",
     "output_type": "stream",
     "text": [
      "      fun: 2.446991013709817\n",
      " hess_inv: array([[  4.80115460e-01,  -1.25123399e-02],\n",
      "       [ -1.25123399e-02,   3.27335125e-04]])\n",
      "      jac: array([ -5.96046448e-08,   1.19209290e-07])\n",
      "  message: 'Optimization terminated successfully.'\n",
      "     nfev: 68\n",
      "      nit: 9\n",
      "     njev: 17\n",
      "   status: 0\n",
      "  success: True\n",
      "        x: array([-1.22204049,  0.22338997])\n"
     ]
    }
   ],
   "source": [
    "p0 = [ 2, 0.1 ]\n",
    "M = minimize(lambda p: Loss(x_data, y_data, f, p), p0)\n",
    "print(M)"
   ]
  },
  {
   "cell_type": "code",
   "execution_count": 22,
   "metadata": {},
   "outputs": [],
   "source": [
    "X_pred = np.linspace( ts(2020,2,1), ts(2020, 4, 10), 200 )\n",
    "Y_pred = f(X_pred, *M.x)"
   ]
  },
  {
   "cell_type": "code",
   "execution_count": 23,
   "metadata": {},
   "outputs": [
    {
     "data": {
      "text/plain": [
       "(0, 3000)"
      ]
     },
     "execution_count": 23,
     "metadata": {},
     "output_type": "execute_result"
    },
    {
     "data": {
      "image/png": "[encoded data removed]",
      "text/plain": [
       "<matplotlib.figure.Figure at 0x7fd91972b7b8>"
      ]
     },
     "metadata": {},
     "output_type": "display_data"
    }
   ],
   "source": [
    "plt.figure(figsize=(10,5))\n",
    "plt.title(\"COVID-19 Infektionen Deutschland\")\n",
    "plt.plot(x_data, y_data, color=\"blue\")\n",
    "plt.plot(X_pred, Y_pred, \"--\", color=\"red\", alpha=0.5)\n",
    "\n",
    "plt.xticks([ ts(2020,2,20), ts(2020,3,1), ts(2020,3,8), ts(2020,3,10) ],\n",
    "           [\"Feb 20\", \"Mar 1\", \"Mar 8\", \"Mar 10\"])\n",
    "plt.legend([ \"Offizielle Infektionszahl\", \"Exponential fit\" ])\n",
    "plt.xlim( ts(2020,2,20), ts(2020,3,20) )\n",
    "plt.ylim( 0, 3000 )"
   ]
  },
  {
   "cell_type": "markdown",
   "metadata": {},
   "source": [
    "# Kernel Ridge Regression"
   ]
  },
  {
   "cell_type": "code",
   "execution_count": 24,
   "metadata": {},
   "outputs": [],
   "source": [
    "from sklearn.kernel_ridge import KernelRidge"
   ]
  },
  {
   "cell_type": "code",
   "execution_count": 25,
   "metadata": {},
   "outputs": [],
   "source": [
    "x0 = ts(2020,2,1)\n",
    "xn_data = (x_data - x0) / 86400 # in days since 2020-02-01"
   ]
  },
  {
   "cell_type": "code",
   "execution_count": 26,
   "metadata": {},
   "outputs": [],
   "source": [
    "import math"
   ]
  },
  {
   "cell_type": "code",
   "execution_count": 27,
   "metadata": {},
   "outputs": [
    {
     "name": "stdout",
     "output_type": "stream",
     "text": [
      "Score:  0.901660942571\n"
     ]
    },
    {
     "data": {
      "image/png": "[encoded data removed]",
      "text/plain": [
       "<matplotlib.figure.Figure at 0x7fd919691240>"
      ]
     },
     "metadata": {},
     "output_type": "display_data"
    }
   ],
   "source": [
    "# KR = KernelRidge(alpha=0.1, kernel=\"linear\").fit(xn_data, y_data) # Linear\n",
    "# KR = KernelRidge(alpha=0.1, kernel=\"poly\", degree=2).fit(xn_data, y_data) # Polynomial\n",
    "# KR = KernelRidge(alpha=0.1, kernel=\"rbf\").fit(xn_data, y_data) # RBF ??\n",
    "\n",
    "# def K(x1, x2): return x1*x2 # Linear\n",
    "def K(x1, x2): return (1+x1*x2)**3/1000 # Poly\n",
    "# def K(x1, x2): return np.exp(-abs(x1-x2)**2) # Gauss\n",
    "# def K(x1, x2): return np.exp(-abs(x1-x2))    # Laplace\n",
    "KR = KernelRidge(alpha=1e+3, kernel=K).fit(xn_data, y_data)\n",
    "\n",
    "X_pred = np.linspace( ts(2020,1,1), ts(2020, 4, 1), 100 )\n",
    "Y_pred = KR.predict(np.array([X_pred - x0]).T / 86400)\n",
    "plt.plot(x_data, y_data)\n",
    "plt.plot(X_pred, Y_pred)\n",
    "\n",
    "plt.ylim( -1000, 5000 )\n",
    "print(\"Score: \", KR.score(xn_data, y_data))"
   ]
  },
  {
   "cell_type": "code",
   "execution_count": 45,
   "metadata": {},
   "outputs": [
    {
     "name": "stderr",
     "output_type": "stream",
     "text": [
      "/opt/conda/lib/python3.6/site-packages/ipykernel_launcher.py:1: RuntimeWarning: divide by zero encountered in log\n",
      "  \"\"\"Entry point for launching an IPython kernel.\n",
      "/opt/conda/lib/python3.6/site-packages/pandas/core/algorithms.py:1547: RuntimeWarning: invalid value encountered in subtract\n",
      "  out_arr[res_indexer] = arr[res_indexer] - arr[lag_indexer]\n"
     ]
    },
    {
     "data": {
      "text/plain": [
       "1.579651e+09           NaN\n",
       "1.579738e+09           NaN\n",
       "1.579824e+09           NaN\n",
       "1.579910e+09           NaN\n",
       "1.579997e+09           NaN\n",
       "1.580083e+09           inf\n",
       "1.580170e+09    300.000000\n",
       "1.580256e+09      0.000000\n",
       "1.580342e+09      0.000000\n",
       "1.580429e+09     25.000000\n",
       "1.580515e+09     60.000000\n",
       "1.580602e+09     25.000000\n",
       "1.580688e+09     20.000000\n",
       "1.580774e+09      0.000000\n",
       "1.580861e+09      0.000000\n",
       "1.580947e+09      0.000000\n",
       "1.581034e+09      8.333333\n",
       "1.581120e+09      0.000000\n",
       "1.581206e+09      7.692308\n",
       "1.581293e+09      0.000000\n",
       "1.581379e+09     14.285714\n",
       "1.581466e+09      0.000000\n",
       "1.581552e+09      0.000000\n",
       "1.581638e+09      0.000000\n",
       "1.581725e+09      0.000000\n",
       "1.581811e+09      0.000000\n",
       "1.581898e+09      0.000000\n",
       "1.581984e+09      0.000000\n",
       "1.582070e+09      0.000000\n",
       "1.582157e+09      0.000000\n",
       "1.582243e+09      0.000000\n",
       "1.582330e+09      0.000000\n",
       "1.582416e+09      0.000000\n",
       "1.582502e+09      0.000000\n",
       "1.582589e+09      6.250000\n",
       "1.582675e+09     58.823529\n",
       "1.582762e+09     70.370370\n",
       "1.582848e+09      4.347826\n",
       "1.582934e+09     64.583333\n",
       "1.583021e+09     64.556962\n",
       "1.583107e+09     22.307692\n",
       "1.583194e+09     23.270440\n",
       "1.583280e+09     33.673469\n",
       "1.583366e+09     83.969466\n",
       "1.583453e+09     39.004149\n",
       "1.583539e+09     19.253731\n",
       "1.583626e+09     30.162703\n",
       "1.583712e+09     13.076923\n",
       "1.583798e+09     23.894558\n",
       "1.583885e+09     30.954015\n",
       "1.583971e+09      8.909853\n",
       "Name: 11, dtype: float64"
      ]
     },
     "execution_count": 45,
     "metadata": {},
     "output_type": "execute_result"
    }
   ],
   "source": [
    "(np.exp(np.log(Cases).diff()) - 1) * 100"
   ]
  },
  {
   "cell_type": "code",
   "execution_count": 43,
   "metadata": {},
   "outputs": [
    {
     "data": {
      "text/plain": [
       "1.579651e+09       0\n",
       "1.579738e+09       0\n",
       "1.579824e+09       0\n",
       "1.579910e+09       0\n",
       "1.579997e+09       0\n",
       "1.580083e+09       1\n",
       "1.580170e+09       4\n",
       "1.580256e+09       4\n",
       "1.580342e+09       4\n",
       "1.580429e+09       5\n",
       "1.580515e+09       8\n",
       "1.580602e+09      10\n",
       "1.580688e+09      12\n",
       "1.580774e+09      12\n",
       "1.580861e+09      12\n",
       "1.580947e+09      12\n",
       "1.581034e+09      13\n",
       "1.581120e+09      13\n",
       "1.581206e+09      14\n",
       "1.581293e+09      14\n",
       "1.581379e+09      16\n",
       "1.581466e+09      16\n",
       "1.581552e+09      16\n",
       "1.581638e+09      16\n",
       "1.581725e+09      16\n",
       "1.581811e+09      16\n",
       "1.581898e+09      16\n",
       "1.581984e+09      16\n",
       "1.582070e+09      16\n",
       "1.582157e+09      16\n",
       "1.582243e+09      16\n",
       "1.582330e+09      16\n",
       "1.582416e+09      16\n",
       "1.582502e+09      16\n",
       "1.582589e+09      17\n",
       "1.582675e+09      27\n",
       "1.582762e+09      46\n",
       "1.582848e+09      48\n",
       "1.582934e+09      79\n",
       "1.583021e+09     130\n",
       "1.583107e+09     159\n",
       "1.583194e+09     196\n",
       "1.583280e+09     262\n",
       "1.583366e+09     482\n",
       "1.583453e+09     670\n",
       "1.583539e+09     799\n",
       "1.583626e+09    1040\n",
       "1.583712e+09    1176\n",
       "1.583798e+09    1457\n",
       "1.583885e+09    1908\n",
       "1.583971e+09    2078\n",
       "Name: 11, dtype: int64"
      ]
     },
     "execution_count": 43,
     "metadata": {},
     "output_type": "execute_result"
    }
   ],
   "source": [
    "Cases"
   ]
  },
  {
   "cell_type": "code",
   "execution_count": null,
   "metadata": {},
   "outputs": [],
   "source": []
  }
 ],
 "metadata": {
  "kernelspec": {
   "display_name": "Python 3",
   "language": "python",
   "name": "python3"
  },
  "language_info": {
   "codemirror_mode": {
    "name": "ipython",
    "version": 3
   },
   "file_extension": ".py",
   "mimetype": "text/x-python",
   "name": "python",
   "nbconvert_exporter": "python",
   "pygments_lexer": "ipython3",
   "version": "3.6.4"
  }
 },
 "nbformat": 4,
 "nbformat_minor": 2
}
